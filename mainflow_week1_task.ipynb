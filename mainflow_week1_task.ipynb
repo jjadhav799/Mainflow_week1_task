{
 "cells": [
  {
   "cell_type": "code",
   "execution_count": 8,
   "id": "e805f590-fb70-4d2f-81cc-a09f9ad420d6",
   "metadata": {},
   "outputs": [],
   "source": [
    "# Created the jayesh's  list\n",
    "my_list = [1, 2, 3, 4, 5]\n",
    "\n",
    "#adding elemnt in my list \n",
    "my_list.append(6)\n",
    "\n",
    "# Removing elements in the list \n",
    "my_list.remove(3)\n",
    "\n",
    "# modifing the my element in the list \n",
    "my_list[0] = 10\n",
    "\n",
    "\n",
    "##########################################################################################################\n",
    "# Create a jayesh's  dictionary\n",
    "my_dict = {'a': 1, 'b': 2, 'c': 3}\n",
    "\n",
    "# adding elemnt into my dictionary \n",
    "my_dict['d'] = 4\n",
    "\n",
    "# removing item in my dictionary\n",
    "my_dict.pop('b')\n",
    "\n",
    "# Modifying elements in my dictionary\n",
    "my_dict['a'] = 100\n",
    "\n",
    "\n",
    "########################################################################################################\n",
    "# Create a set\n",
    "my_set = {1, 2, 3, 4, 5}\n",
    "\n",
    "# adding elemnt into my set \n",
    "my_set.add(6)\n",
    "\n",
    "# removing item in my set \n",
    "my_set.remove(4)\n",
    "\n",
    "#Sets are unordered collections, so you cannot modify specific elements directly.\n",
    "\n",
    "\n"
   ]
  },
  {
   "cell_type": "code",
   "execution_count": 9,
   "id": "1a475e33-cdb4-4ace-b44b-57b8eb330f2f",
   "metadata": {},
   "outputs": [
    {
     "name": "stdout",
     "output_type": "stream",
     "text": [
      "Updated List: [10, 2, 4, 5, 6]\n",
      "Updated Dictionary: {'a': 100, 'c': 3, 'd': 4}\n",
      "Updated Set: {1, 2, 3, 5, 6}\n"
     ]
    }
   ],
   "source": [
    "# Print the updated data structures\n",
    "print(\"Updated List:\", my_list)\n",
    "print(\"Updated Dictionary:\", my_dict)\n",
    "print(\"Updated Set:\", my_set)"
   ]
  },
  {
   "cell_type": "code",
   "execution_count": null,
   "id": "18a8459c-352c-48ae-9537-f90fd9021e3a",
   "metadata": {},
   "outputs": [],
   "source": []
  }
 ],
 "metadata": {
  "kernelspec": {
   "display_name": "Python 3 (ipykernel)",
   "language": "python",
   "name": "python3"
  },
  "language_info": {
   "codemirror_mode": {
    "name": "ipython",
    "version": 3
   },
   "file_extension": ".py",
   "mimetype": "text/x-python",
   "name": "python",
   "nbconvert_exporter": "python",
   "pygments_lexer": "ipython3",
   "version": "3.12.1"
  }
 },
 "nbformat": 4,
 "nbformat_minor": 5
}
